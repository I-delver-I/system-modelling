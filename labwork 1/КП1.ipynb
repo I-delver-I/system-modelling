{
 "cells": [
  {
   "cell_type": "markdown",
   "metadata": {
    "pycharm": {
     "name": "#%% md\n"
    }
   },
   "source": [
    "## Плугатирьов Дмитро ІП-15"
   ]
  },
  {
   "cell_type": "markdown",
   "metadata": {
    "pycharm": {
     "name": "#%% md\n"
    }
   },
   "source": [
    "# Комп'ютерний практикум №1"
   ]
  },
  {
   "cell_type": "markdown",
   "metadata": {
    "pycharm": {
     "name": "#%% md\n"
    }
   },
   "source": [
    "## Залежності"
   ]
  },
  {
   "cell_type": "code",
   "execution_count": 152,
   "metadata": {
    "pycharm": {
     "name": "#%%\n"
    }
   },
   "outputs": [],
   "source": [
    "import math\n",
    "import random\n",
    "import numpy as np\n",
    "import matplotlib.pyplot as plt\n",
    "from scipy import stats"
   ]
  },
  {
   "cell_type": "markdown",
   "metadata": {
    "collapsed": false,
    "pycharm": {
     "name": "#%% md\n"
    }
   },
   "source": [
    "## Налаштування виводу на екран"
   ]
  },
  {
   "cell_type": "code",
   "execution_count": 153,
   "metadata": {
    "pycharm": {
     "name": "#%%\n"
    }
   },
   "outputs": [],
   "source": [
    "def build_histogram(data, bins, title, color='blue'):\n",
    "    _, ax = plt.subplots(figsize=(8, 6))\n",
    "\n",
    "    ax.set_title(title)\n",
    "    ax.set_xlabel('Значення')\n",
    "    ax.set_ylabel('Частота')\n",
    "\n",
    "    ax.grid(True)\n",
    "    ax.hist(data, bins=bins, color=color)\n",
    "    return ax\n",
    "\n",
    "def format_statistics_info(data, title):\n",
    "    mean, std = data\n",
    "    return f'{title}: \\nСереднє: {mean:.3f}, Std: {std:.3f}'\n",
    "\n",
    "def format_chi_square_info(chi2, chi2_k, title):\n",
    "    return f'{title}: \\nChi^2: {chi2:.3f}, Chi^2 k: {chi2_k}'"
   ]
  },
  {
   "cell_type": "markdown",
   "metadata": {},
   "source": [
    "## Обчислення значень"
   ]
  },
  {
   "cell_type": "code",
   "execution_count": 154,
   "metadata": {},
   "outputs": [],
   "source": [
    "# Скільки стовпчиків поміститься на гістограмі\n",
    "def sturges_bins_amount(items_amt):\n",
    "    return math.ceil(math.log2(items_amt) + 1)\n",
    "\n",
    "# Створення пари бінів (межі відрізків на гістограмі)\n",
    "def split_bins(bins):\n",
    "    return [(bins[idx - 1], bins[idx]) for idx in range(1, bins.size)]\n",
    "\n",
    "def calculate_mean_std(items):\n",
    "    mean = np.mean(items)\n",
    "    std = np.std(items, ddof=1)\n",
    "    return (mean, std)\n",
    "\n",
    "# Chi2 з таблиці (заздалегідь визначена) (функція відсоткової точки - ppf)\n",
    "def calculate_chi2_k(alpha, bins_amt, params_amt):\n",
    "    return stats.chi2.ppf(1 - alpha, bins_amt - params_amt - 1)\n",
    "\n",
    "# Chi2 розраховується за формулою\n",
    "def calculate_chi2(items_amt, values, bins, compute_step, *args):\n",
    "    bins_pairs = split_bins(bins)\n",
    "    probabilities_expected = np.array(\n",
    "        [compute_step(left, right, *args) for left, right in bins_pairs]\n",
    "    )\n",
    "    \n",
    "    values_expected = items_amt * probabilities_expected\n",
    "    chi2 = np.sum(np.square(values - values_expected) / values_expected)\n",
    "    return chi2\n",
    "\n",
    "def is_matching_chi2_law(chi2, chi2_k):\n",
    "    return chi2 <= chi2_k"
   ]
  },
  {
   "cell_type": "markdown",
   "metadata": {},
   "source": [
    "# Експоненційний закон розподілу"
   ]
  },
  {
   "cell_type": "markdown",
   "metadata": {},
   "source": [
    "## Налаштування графіку гістограми"
   ]
  },
  {
   "cell_type": "code",
   "execution_count": 155,
   "metadata": {},
   "outputs": [
    {
     "name": "stdout",
     "output_type": "stream",
     "text": [
      "Відсіки для гістограми Експоненціальна: 15\n"
     ]
    }
   ],
   "source": [
    "numbers_to_generate = 10000\n",
    "exponential_bins = sturges_bins_amount(numbers_to_generate)\n",
    "print('Відсіки для гістограми Експоненціальна:', exponential_bins)"
   ]
  },
  {
   "cell_type": "markdown",
   "metadata": {},
   "source": [
    "## Формулювання закону розподілу"
   ]
  },
  {
   "cell_type": "code",
   "execution_count": 156,
   "metadata": {},
   "outputs": [
    {
     "data": {
      "text/plain": [
       "array([0.01621837, 0.10029877, 0.80938324, ..., 0.28842959, 0.24805342,\n",
       "       0.69039281])"
      ]
     },
     "execution_count": 156,
     "metadata": {},
     "output_type": "execute_result"
    }
   ],
   "source": [
    "lambda_value = 4\n",
    "xi = np.random.uniform(size=numbers_to_generate)\n",
    "exponential_law = -1 / lambda_value * np.log(xi)\n",
    "exponential_law"
   ]
  },
  {
   "cell_type": "markdown",
   "metadata": {},
   "source": [
    "## Побудова графіку для перевірки закону"
   ]
  },
  {
   "cell_type": "code",
   "execution_count": 157,
   "metadata": {},
   "outputs": [
    {
     "data": {
      "text/plain": [
       "<Axes: title={'center': 'Закон - Експоненціальний'}, xlabel='Значення', ylabel='Частота'>"
      ]
     },
     "execution_count": 157,
     "metadata": {},
     "output_type": "execute_result"
    },
    {
     "data": {
      "image/png": "[encoded data removed]",
      "text/plain": [
       "<Figure size 800x600 with 1 Axes>"
      ]
     },
     "metadata": {},
     "output_type": "display_data"
    }
   ],
   "source": [
    "counts, bins = np.histogram(exponential_law, bins=exponential_bins)\n",
    "build_histogram(exponential_law, exponential_bins, title='Закон - Експоненціальний', color='red')"
   ]
  },
  {
   "cell_type": "markdown",
   "metadata": {},
   "source": [
    "## Статистика за законом"
   ]
  },
  {
   "cell_type": "code",
   "execution_count": 158,
   "metadata": {},
   "outputs": [
    {
     "name": "stdout",
     "output_type": "stream",
     "text": [
      "Експоненціальний: \n",
      "Середнє: 0.250, Std: 0.246\n"
     ]
    }
   ],
   "source": [
    "exponential_stats = calculate_mean_std(exponential_law)\n",
    "exponential_mean, exponential_std = exponential_stats\n",
    "fmt = format_statistics_info(exponential_stats, 'Експоненціальний')\n",
    "print(fmt)"
   ]
  },
  {
   "cell_type": "markdown",
   "metadata": {},
   "source": [
    "## Перевірка за критерієм згоди xi^2"
   ]
  },
  {
   "cell_type": "code",
   "execution_count": 159,
   "metadata": {},
   "outputs": [
    {
     "name": "stdout",
     "output_type": "stream",
     "text": [
      "Експоненціальний: \n",
      "Chi^2: 11.486, Chi^2 k: 22.362032494826934\n"
     ]
    }
   ],
   "source": [
    "def calculate_exponential_step(left, right, lambda_value):\n",
    "    return np.exp(-lambda_value * left) - np.exp(-lambda_value * right)\n",
    "\n",
    "lambda_expected = 1 / exponential_mean\n",
    "exponential_chi2 = calculate_chi2(numbers_to_generate, counts, bins, \n",
    "                                calculate_exponential_step, lambda_expected)\n",
    "exponential_chi2_k = calculate_chi2_k(0.05, exponential_bins, 1)\n",
    "fmt = format_chi_square_info(exponential_chi2, exponential_chi2_k, 'Експоненціальний')\n",
    "print(fmt)"
   ]
  },
  {
   "cell_type": "code",
   "execution_count": 160,
   "metadata": {},
   "outputs": [
    {
     "name": "stdout",
     "output_type": "stream",
     "text": [
      "Експоненціальний закон працює!\n"
     ]
    }
   ],
   "source": [
    "if is_matching_chi2_law(exponential_chi2, exponential_chi2_k):\n",
    "    print(\"Експоненціальний закон працює!\")\n",
    "else:\n",
    "    print(\"Експоненціальний закон не працює!\")"
   ]
  },
  {
   "cell_type": "markdown",
   "metadata": {},
   "source": [
    "# Нормальний закон розподілу"
   ]
  },
  {
   "cell_type": "markdown",
   "metadata": {},
   "source": [
    "## Налаштування графіку гістограми"
   ]
  },
  {
   "cell_type": "code",
   "execution_count": 161,
   "metadata": {},
   "outputs": [
    {
     "name": "stdout",
     "output_type": "stream",
     "text": [
      "Відсіки для гістограми нормального розподілу: 15\n"
     ]
    }
   ],
   "source": [
    "numbers_to_generate = 10000\n",
    "normal_init_bins = sturges_bins_amount(numbers_to_generate)\n",
    "print('Відсіки для гістограми нормального розподілу:', exponential_bins)"
   ]
  },
  {
   "cell_type": "markdown",
   "metadata": {},
   "source": [
    "## Формулювання закону розподілу"
   ]
  },
  {
   "cell_type": "code",
   "execution_count": 162,
   "metadata": {},
   "outputs": [
    {
     "data": {
      "text/plain": [
       "array([ -4.9297405 , -11.88015949,  -5.69515272, ...,  -6.39305029,\n",
       "        -2.67458217,  -0.3684195 ])"
      ]
     },
     "execution_count": 162,
     "metadata": {},
     "output_type": "execute_result"
    }
   ],
   "source": [
    "sigma_value = 4\n",
    "a_value = -5\n",
    "\n",
    "normal_law = np.zeros(numbers_to_generate)\n",
    "for idx in range(numbers_to_generate):\n",
    "    mu_value = np.random.uniform(size=12).sum() - 6\n",
    "    normal_law[idx] = sigma_value * mu_value + a_value\n",
    "normal_law"
   ]
  },
  {
   "cell_type": "markdown",
   "metadata": {},
   "source": [
    "## Побудова графіку для перевірки закону"
   ]
  },
  {
   "cell_type": "code",
   "execution_count": 163,
   "metadata": {},
   "outputs": [
    {
     "data": {
      "text/plain": [
       "<Axes: title={'center': 'Закон - Нормальний розподіл'}, xlabel='Значення', ylabel='Частота'>"
      ]
     },
     "execution_count": 163,
     "metadata": {},
     "output_type": "execute_result"
    },
    {
     "data": {
      "image/png": "[encoded data removed]",
      "text/plain": [
       "<Figure size 800x600 with 1 Axes>"
      ]
     },
     "metadata": {},
     "output_type": "display_data"
    }
   ],
   "source": [
    "normal_counts, normal_bins = np.histogram(normal_law, bins=normal_init_bins)\n",
    "build_histogram(normal_law, normal_bins, title='Закон - Нормальний розподіл', color='black')"
   ]
  },
  {
   "cell_type": "markdown",
   "metadata": {},
   "source": [
    "## Статистика за законом"
   ]
  },
  {
   "cell_type": "code",
   "execution_count": 164,
   "metadata": {},
   "outputs": [
    {
     "name": "stdout",
     "output_type": "stream",
     "text": [
      "Нормальний розподіл: \n",
      "Середнє: -4.994, Std: 3.978\n"
     ]
    }
   ],
   "source": [
    "normal_stats = calculate_mean_std(normal_law)\n",
    "normal_mean, normal_std = normal_stats\n",
    "fmt = format_statistics_info(normal_stats, 'Нормальний розподіл')\n",
    "print(fmt)"
   ]
  },
  {
   "cell_type": "markdown",
   "metadata": {},
   "source": [
    "## Перевірка за критерієм згоди xi^2"
   ]
  },
  {
   "cell_type": "code",
   "execution_count": 165,
   "metadata": {},
   "outputs": [
    {
     "name": "stdout",
     "output_type": "stream",
     "text": [
      "Нормальний розподіл: \n",
      "Chi^2: 14.754, Chi^2 k: 21.02606981748307\n"
     ]
    }
   ],
   "source": [
    "# Кумулятивна функція розподілу - cdf\n",
    "def calculate_normal_step(left, right, sigma_value, a_value):\n",
    "    left_cdf, right_cdf = stats.norm.cdf([left, right], loc=sigma_value, scale=a_value)\n",
    "    return right_cdf - left_cdf\n",
    "\n",
    "sigma_expected = normal_mean\n",
    "normal_expected = normal_std\n",
    "normal_chi2 = calculate_chi2(numbers_to_generate, normal_counts, normal_bins, \n",
    "                            calculate_normal_step, sigma_expected, normal_expected)\n",
    "normal_chi2_k = calculate_chi2_k(0.05, normal_init_bins, 2)\n",
    "fmt = format_chi_square_info(normal_chi2, normal_chi2_k, 'Нормальний розподіл')\n",
    "print(fmt)"
   ]
  },
  {
   "cell_type": "code",
   "execution_count": 166,
   "metadata": {},
   "outputs": [
    {
     "name": "stdout",
     "output_type": "stream",
     "text": [
      "Закон нормального розподілу працює!\n"
     ]
    }
   ],
   "source": [
    "if is_matching_chi2_law(normal_chi2, normal_chi2_k):\n",
    "    print(\"Закон нормального розподілу працює!\")\n",
    "else:\n",
    "    print(\"Закон нормального розподілу не працює!\")"
   ]
  },
  {
   "cell_type": "markdown",
   "metadata": {},
   "source": [
    "# Рівномірний закон розподілу"
   ]
  },
  {
   "cell_type": "markdown",
   "metadata": {},
   "source": [
    "## Конфігурація графіку гістограми"
   ]
  },
  {
   "cell_type": "code",
   "execution_count": 167,
   "metadata": {},
   "outputs": [
    {
     "name": "stdout",
     "output_type": "stream",
     "text": [
      "Відсіки для Закону рівномірного розподілу: 15\n"
     ]
    }
   ],
   "source": [
    "numbers_to_generate = 10000\n",
    "uniform_init_bins = sturges_bins_amount(numbers_to_generate)\n",
    "print('Відсіки для Закону рівномірного розподілу:', uniform_init_bins)"
   ]
  },
  {
   "cell_type": "markdown",
   "metadata": {},
   "source": [
    "## Формуляція закону розподілу"
   ]
  },
  {
   "cell_type": "code",
   "execution_count": 168,
   "metadata": {},
   "outputs": [
    {
     "data": {
      "text/plain": [
       "array([0.07858199, 0.1854437 , 0.32018286, ..., 0.82644033, 0.7305522 ,\n",
       "       0.24644232])"
      ]
     },
     "execution_count": 168,
     "metadata": {},
     "output_type": "execute_result"
    }
   ],
   "source": [
    "a_value = 5**13\n",
    "c_value = 2**31\n",
    "zi_value = np.random.uniform()\n",
    "\n",
    "uniform_law = np.zeros(numbers_to_generate)\n",
    "for idx in range(numbers_to_generate):\n",
    "    zi_value = (a_value * zi_value) % c_value\n",
    "    uniform_law[idx] = zi_value / c_value\n",
    "uniform_law\n"
   ]
  },
  {
   "cell_type": "markdown",
   "metadata": {},
   "source": [
    "## Побудова графіку для перевірки закону"
   ]
  },
  {
   "cell_type": "code",
   "execution_count": 169,
   "metadata": {},
   "outputs": [
    {
     "data": {
      "text/plain": [
       "<Axes: title={'center': 'Закон - Рівномірний розподіл'}, xlabel='Значення', ylabel='Частота'>"
      ]
     },
     "execution_count": 169,
     "metadata": {},
     "output_type": "execute_result"
    },
    {
     "data": {
      "image/png": "[encoded data removed]",
      "text/plain": [
       "<Figure size 800x600 with 1 Axes>"
      ]
     },
     "metadata": {},
     "output_type": "display_data"
    }
   ],
   "source": [
    "uniform_counts, uniform_bins = np.histogram(uniform_law, bins=uniform_init_bins)\n",
    "build_histogram(uniform_law, uniform_bins, title='Закон - Рівномірний розподіл', color='blue')"
   ]
  },
  {
   "cell_type": "markdown",
   "metadata": {},
   "source": [
    "## Статистика за законом"
   ]
  },
  {
   "cell_type": "code",
   "execution_count": 170,
   "metadata": {},
   "outputs": [
    {
     "name": "stdout",
     "output_type": "stream",
     "text": [
      "Рівномірний розподіл: \n",
      "Середнє: 0.500, Std: 0.289\n"
     ]
    }
   ],
   "source": [
    "uniform_stats = calculate_mean_std(uniform_law)\n",
    "uniform_mean, uniform_std = uniform_stats\n",
    "fmt = format_statistics_info(uniform_stats, 'Рівномірний розподіл')\n",
    "print(fmt)"
   ]
  },
  {
   "cell_type": "markdown",
   "metadata": {},
   "source": [
    "## Перевірка за критерієм згоди xi^2"
   ]
  },
  {
   "cell_type": "code",
   "execution_count": 171,
   "metadata": {},
   "outputs": [
    {
     "name": "stdout",
     "output_type": "stream",
     "text": [
      "Рівномірний розподіл: \n",
      "Chi^2: 14.552, Chi^2 k: 21.02606981748307\n"
     ]
    }
   ],
   "source": [
    "def calculate_uniform_step(left, right, a_value, c_value):\n",
    "    return (right - left) / (c_value - a_value)\n",
    "\n",
    "a_expected = uniform_mean - 3 ** 0.5 * uniform_std\n",
    "c_expected = uniform_mean + 3 ** 0.5 * uniform_std\n",
    "uniform_chi2 = calculate_chi2(numbers_to_generate, uniform_counts, uniform_bins,\n",
    "                            calculate_uniform_step, a_expected, c_expected)\n",
    "uniform_chi2_k = calculate_chi2_k(0.05, uniform_init_bins, 2)\n",
    "fmt = format_chi_square_info(uniform_chi2, uniform_chi2_k, 'Рівномірний розподіл')\n",
    "print(fmt)"
   ]
  },
  {
   "cell_type": "code",
   "execution_count": 172,
   "metadata": {},
   "outputs": [
    {
     "name": "stdout",
     "output_type": "stream",
     "text": [
      "Закон рівномірного розподілу працює!\n"
     ]
    }
   ],
   "source": [
    "if is_matching_chi2_law(uniform_chi2, uniform_chi2_k):\n",
    "    print(\"Закон рівномірного розподілу працює!\")\n",
    "else:\n",
    "    print(\"Закон рівномірного розподілу не працює!\")"
   ]
  }
 ],
 "metadata": {
  "kernelspec": {
   "display_name": "Python 3",
   "language": "python",
   "name": "python3"
  },
  "language_info": {
   "codemirror_mode": {
    "name": "ipython",
    "version": 3
   },
   "file_extension": ".py",
   "mimetype": "text/x-python",
   "name": "python",
   "nbconvert_exporter": "python",
   "pygments_lexer": "ipython3",
   "version": "3.11.2"
  },
  "orig_nbformat": 4
 },
 "nbformat": 4,
 "nbformat_minor": 2
}
